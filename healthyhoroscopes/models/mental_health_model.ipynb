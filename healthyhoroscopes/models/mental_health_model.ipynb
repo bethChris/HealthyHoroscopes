{
 "cells": [
  {
   "cell_type": "code",
   "execution_count": null,
   "metadata": {},
   "outputs": [],
   "source": [
    "import pandas as pd\n",
    "import numpy as np\n",
    "from sklearn.neighbors import NearestNeighbors\n",
    "\n",
    "import seaborn as sns\n",
    "import matplotlib.pyplot as plt"
   ]
  },
  {
   "cell_type": "code",
   "execution_count": null,
   "metadata": {},
   "outputs": [],
   "source": [
    "df = pd.read_csv('dataset.csv')\n",
    "df = df.rename({'feeling.nervous': 'feelingNervous', \n",
    "                'breathing.rapidly': 'breathingRapidly',\n",
    "                'trouble.in.concentration': 'troubleInConcentration',\n",
    "                'having.trouble.in.sleeping': 'havingTroubleInSleeping',\n",
    "                'having.trouble.with.work': 'havingTroubleWithWork',\n",
    "                'over.react': 'overReact',\n",
    "                'change.in.eating': 'changeInEating',\n",
    "                'suicidal.thought': 'suicidalThought',\n",
    "                'feeling.tired': 'feelingTired',\n",
    "                'close.friend': 'closeFriend',\n",
    "                'social.media.addiction': 'socialMediaAddiction',\n",
    "                'weight.gain': 'weightGain',\n",
    "                'material.possessions': 'materialPossessions',\n",
    "                'popping.up.stressful.memory': 'poppingUpStressfulMemory',\n",
    "                'having.nightmares': 'havingNightmares',\n",
    "                'avoids.people.or.activities': 'avoidsPeopleOrActivities',\n",
    "                'feeling.negative': 'feelingNegative',\n",
    "                'trouble.concentrating': 'troubleConcentrating', \n",
    "                'blamming.yourself': 'blammingYourself'}, axis=1)\n",
    "\n",
    "y = df['Disorder']\n",
    "df = df.drop(labels=['Disorder'], axis=1)\n",
    "for i in df.columns:\n",
    "    df[i] = df[i].apply(lambda x: 1 if x == 'yes' else 0)\n",
    "display(df)\n",
    "display(y)"
   ]
  }
 ],
 "metadata": {
  "kernelspec": {
   "display_name": "Python 3",
   "language": "python",
   "name": "python3"
  },
  "language_info": {
   "codemirror_mode": {
    "name": "ipython",
    "version": 3
   },
   "file_extension": ".py",
   "mimetype": "text/x-python",
   "name": "python",
   "nbconvert_exporter": "python",
   "pygments_lexer": "ipython3",
   "version": "3.11.5"
  }
 },
 "nbformat": 4,
 "nbformat_minor": 2
}
